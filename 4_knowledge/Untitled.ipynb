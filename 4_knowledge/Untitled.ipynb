{
 "cells": [
  {
   "cell_type": "code",
   "execution_count": 43,
   "id": "eeb6367d",
   "metadata": {},
   "outputs": [],
   "source": [
    "str_ = ''\n",
    "\n",
    "with open(r\".\\sample-input-1-2.txt\", 'r') as fp:\n",
    "    for count, line in enumerate(fp):\n",
    "        str_ = line\n"
   ]
  },
  {
   "cell_type": "code",
   "execution_count": 44,
   "id": "1a5ab758",
   "metadata": {},
   "outputs": [
    {
     "data": {
      "text/plain": [
       "'Rkbs,5453; Wdqiz,1245; Rwds,3890; Ujma,5589; Tbzmo,1303;'"
      ]
     },
     "execution_count": 44,
     "metadata": {},
     "output_type": "execute_result"
    }
   ],
   "source": [
    "str_"
   ]
  },
  {
   "cell_type": "code",
   "execution_count": 45,
   "id": "2197e46a",
   "metadata": {},
   "outputs": [],
   "source": [
    "# Clean up the resume\n",
    "import re\n",
    "\n",
    "str_= sorted([int(num) for num in re.findall(r'\\d+', str_)])"
   ]
  },
  {
   "cell_type": "code",
   "execution_count": 46,
   "id": "d7bb9e7f",
   "metadata": {},
   "outputs": [
    {
     "data": {
      "text/plain": [
       "[1245, 1303, 3890, 5453, 5589]"
      ]
     },
     "execution_count": 46,
     "metadata": {},
     "output_type": "execute_result"
    }
   ],
   "source": [
    "str_"
   ]
  },
  {
   "cell_type": "code",
   "execution_count": 47,
   "id": "d9da1865",
   "metadata": {},
   "outputs": [],
   "source": [
    "distance_citi = []\n",
    "distace_to_zero = 0\n",
    "\n",
    "for i in str_:\n",
    "    distance_citi.append(i-distace_to_zero)\n",
    "    distace_to_zero=i"
   ]
  },
  {
   "cell_type": "code",
   "execution_count": 51,
   "id": "cb21def3",
   "metadata": {},
   "outputs": [],
   "source": [
    "distance_citi = [str(citi) for citi in distance_citi] "
   ]
  },
  {
   "cell_type": "code",
   "execution_count": 53,
   "id": "92af4398",
   "metadata": {},
   "outputs": [
    {
     "name": "stdout",
     "output_type": "stream",
     "text": [
      "1245,58,2587,1563,136\n"
     ]
    }
   ],
   "source": [
    "join = ','.join(distance_citi)\n",
    "\n",
    "#print\n",
    "print(join)"
   ]
  },
  {
   "cell_type": "code",
   "execution_count": 27,
   "id": "8554d561",
   "metadata": {},
   "outputs": [],
   "source": [
    "x1=str_[0]\n",
    "x2=str_[2]\n",
    "y1=str_[1]\n",
    "y2=str_[3]\n",
    "distance = ((((x1 - x2)**2) + ((y1 - y2)**2) )**0.5)"
   ]
  },
  {
   "cell_type": "code",
   "execution_count": null,
   "id": "9b9213c7",
   "metadata": {},
   "outputs": [],
   "source": []
  }
 ],
 "metadata": {
  "kernelspec": {
   "display_name": "Python 3",
   "language": "python",
   "name": "python3"
  },
  "language_info": {
   "codemirror_mode": {
    "name": "ipython",
    "version": 3
   },
   "file_extension": ".py",
   "mimetype": "text/x-python",
   "name": "python",
   "nbconvert_exporter": "python",
   "pygments_lexer": "ipython3",
   "version": "3.8.8"
  }
 },
 "nbformat": 4,
 "nbformat_minor": 5
}
