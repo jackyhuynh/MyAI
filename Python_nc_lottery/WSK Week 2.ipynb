{
 "cells": [
  {
   "cell_type": "markdown",
   "id": "2c77e88b",
   "metadata": {},
   "source": [
    "# Workshop 2\n",
    "\n",
    "This notebook will cover the following topics:\n",
    "\n",
    "1. Introduction to functions and modular design\n",
    "2. Passing arguments to functions\n",
    "3. Functions that return nothing and functions that return something\n",
    "4. Local and global variables "
   ]
  },
  {
   "cell_type": "markdown",
   "id": "e33c30f5",
   "metadata": {},
   "source": [
    "## 2.1 Function Calls and Program Flow (Follow):  \n",
    "\n",
    "**Learning Objectives:**\n",
    "\n",
    "    1. Understand how functions are called.\n",
    "    2. Understand the need for functions in programs.\n",
    "    3. Trace the execution of a program through a function call.\n",
    "    4. Understand the need for modular design in a program."
   ]
  },
  {
   "cell_type": "code",
   "execution_count": null,
   "id": "fa1b562d",
   "metadata": {},
   "outputs": [],
   "source": [
    "# Add comments to the code \n",
    "# Put numbers next to the lines in the order the program executes\n",
    "\n",
    "def main():\n",
    "    print('I have a message for you.')\n",
    "    message()\n",
    "    print('Goodbye!')\n",
    "\n",
    "def message():\n",
    "    print('I am Arthur')\n",
    "    print('King of the Britons.')\n",
    "\n",
    "\n",
    "main()\n"
   ]
  },
  {
   "cell_type": "code",
   "execution_count": null,
   "id": "8dddb31c",
   "metadata": {},
   "outputs": [],
   "source": [
    "# Add comments to the code \n",
    "# put numbers next to the lines in the order the program executes\n",
    "\n",
    "def main():\n",
    "\n",
    "    feet = 0.0\n",
    "    inches = 0.0\n",
    "\n",
    "    feet = float(input('Enter the number of feet: '))\n",
    "\n",
    "    inches = feet_to_inches(feet)\n",
    "    print (f'{feet} feet = {inches} inches')\n",
    "    \n",
    "def feet_to_inches(feet):\n",
    "    return 12 * feet\n",
    "\n",
    "\n",
    "main()\n"
   ]
  },
  {
   "cell_type": "markdown",
   "id": "8f34e0a3",
   "metadata": {},
   "source": [
    "### As the above code executes, think about the following questions:\n",
    "\n",
    "1. What is the first thing that is executed?\n",
    "2. What is the second thing, and so on?\n",
    "3. Why would someone need to create a function in a program?\n",
    "4. Try inserting some print statements into the above code to trace the execution. "
   ]
  },
  {
   "cell_type": "markdown",
   "id": "69bd6992",
   "metadata": {},
   "source": [
    "## 2.1 Function Calls and Program Flow (Group): \n",
    "\n",
    "Write a program that will do the following:\n",
    "\n",
    "1. Convert kilometers to miles.\n",
    "2. Take input from the user in miles\n",
    "3. Create a function that will convert the input to kilometers\n",
    "4. Output the answer to the user.\n",
    "\n",
    "1 kilometer = .6214 miles\n",
    "\n",
    "1 mile = 1.609 kilometers"
   ]
  },
  {
   "cell_type": "code",
   "execution_count": null,
   "id": "674388d5",
   "metadata": {},
   "outputs": [],
   "source": [
    "# add code here\n"
   ]
  },
  {
   "cell_type": "markdown",
   "id": "e5adbdd3",
   "metadata": {},
   "source": [
    "## 2.2 Passing Arguments to Functions (Follow):  \n",
    "\n",
    "**Learning Objectives:**\n",
    "\n",
    "    1. Understand how arguments are passed to a function.\n",
    "    2. Understand what arguments can be passed to a function.\n",
    "    "
   ]
  },
  {
   "cell_type": "code",
   "execution_count": null,
   "id": "d94cc193",
   "metadata": {},
   "outputs": [],
   "source": [
    "# add comments to the code\n",
    "\n",
    "def main():\n",
    "\n",
    "    presentValue = 0.0\n",
    "    interestRate = 0.0\n",
    "    months = 0\n",
    "    futureValue = 0.0\n",
    "\n",
    "    presentValue = float(input('Enter the present value '\n",
    "                               'of the account in dollars: '))\n",
    "    \n",
    "    interestRate = float(input('Enter the monthly interest '\n",
    "                               'rate as a  percentage: '))\n",
    "    \n",
    "    months = int(input('Enter the number of months: '))\n",
    "\n",
    "    print('The information for your account is:')\n",
    "    print(f'Present value: ${presentValue:.2f}')\n",
    "    print(f'Interest Rate: {interestRate:.2%}')\n",
    "    print(f'After {months} months, the value of your account will be: ')\n",
    "          \n",
    "    getFutureValue(presentValue, interestRate, months)\n",
    "  \n",
    "\n",
    "def getFutureValue(presentValue, interestRate, months):\n",
    "    F = 0.0\n",
    "    i = interestRate / 100 \n",
    "    futureValue = presentValue * ((1 + i) **months)\n",
    "    \n",
    "    print(f' $', f'{futureValue:,.2f}')\n",
    "\n",
    "main()"
   ]
  },
  {
   "cell_type": "code",
   "execution_count": null,
   "id": "5d716c8c",
   "metadata": {},
   "outputs": [],
   "source": [
    "# add comments to the code\n",
    "\n",
    "def main():\n",
    "    \n",
    "    a_list = []\n",
    "    list_value = 1\n",
    "    \n",
    "    while list_value != 0:\n",
    "        list_value = float(input('Enter a number, zero to exit: '))\n",
    "        a_list.append(list_value)\n",
    "    \n",
    "    find_sum(a_list)\n",
    "\n",
    "    \n",
    "def find_sum(some_list):\n",
    "    sum = 0\n",
    "    for number in some_list:\n",
    "        sum += number\n",
    "    \n",
    "    print(sum)\n",
    "    \n",
    "main()"
   ]
  },
  {
   "cell_type": "markdown",
   "id": "a9cdc596",
   "metadata": {},
   "source": [
    "### As the above code executes, think about the following questions:\n",
    "\n",
    "1. Trace the execution of the code by placing print statements throughout.\n",
    "2. How do the arguments being passed into the function compare to the arguments being used to call the function?\n",
    "3. Change the name of the arguments in the function and see what happens.\n",
    "4. What does the plus equal do in the second program?"
   ]
  },
  {
   "cell_type": "markdown",
   "id": "68899c00",
   "metadata": {},
   "source": [
    "## 2.2 Passing arguments to functions (Group): \n",
    "\n",
    "Write a program that will do the following:\n",
    "\n",
    "1. Take a number input from the user.\n",
    "2. Compute the factorial of that number.\n",
    "3. You may not use any libraries for this program.  \n",
    "4. Print the factorial for the number input to the user.\n",
    "\n",
    "### Caution:  There is an upper limit to the number that can be computed.\n",
    "\n",
    "N Factorial = N! = N(N-1)(N-2)...(1)"
   ]
  },
  {
   "cell_type": "code",
   "execution_count": null,
   "id": "76d6fc0e",
   "metadata": {},
   "outputs": [],
   "source": [
    "#add code here\n",
    "\n"
   ]
  },
  {
   "cell_type": "markdown",
   "id": "4e7aab1c",
   "metadata": {},
   "source": [
    "## 2.3  Functions that return nothing and functions that return something (Follow):  \n",
    "\n",
    "**Learning Objectives:**\n",
    "\n",
    "    1. Understand what it means for a function to return something.\n",
    "    2. Understand how what a function returns can be used in other functions.\n",
    "    3. Understand what can be returned by a function.\n",
    "    "
   ]
  },
  {
   "cell_type": "code",
   "execution_count": null,
   "id": "09ff1969",
   "metadata": {},
   "outputs": [],
   "source": [
    "# add comments to the code\n",
    "\n",
    "import random\n",
    "\n",
    "def main():\n",
    "    num1 = 0\n",
    "    num2 = 0\n",
    "    correctAnswer = 0\n",
    "    userAnswer = 0\n",
    "\n",
    "    num1 = random.randint(0, 999)\n",
    "    num2 = random.randint(0, 999)\n",
    "    \n",
    "    displayProblem(num1,num2)\n",
    "\n",
    "    userAnswer = getAnswer()\n",
    "\n",
    "    correctAnswer = num1 + num2\n",
    "\n",
    "    showResult(correctAnswer, userAnswer)\n",
    "\n",
    "\n",
    "def displayProblem(num1,num2):\n",
    "    print (f'{num1:5}')\n",
    "    print (f'+{num2:4}')\n",
    "    \n",
    "\n",
    "def getAnswer():\n",
    "    inputAnswer = int(input('Enter sum of numbers: '))\n",
    "    return inputAnswer\n",
    "    \n",
    "\n",
    "def showResult (correctAnswer, answer):\n",
    "    if correctAnswer == answer:\n",
    "        print ('Correct answer – Good Work!')\n",
    "    else:\n",
    "        print (f'Incorrect... The correct answer is: {correctAnswer}')\n",
    "\n",
    "\n",
    "main()"
   ]
  },
  {
   "cell_type": "code",
   "execution_count": null,
   "id": "5d141e13",
   "metadata": {},
   "outputs": [],
   "source": [
    "# add comments to the code\n",
    "\n",
    "def main():\n",
    "    distance = 0.0\n",
    "\n",
    "    time_list, distance_list = build_fall_chart(distance)\n",
    "    \n",
    "    print ('Time\\tFalling Distance')\n",
    "    print ('-----------------------------')\n",
    "    \n",
    "    for index in range(len(time_list)):\n",
    "        print(f'{time_list[index]}\\t{distance_list[index]:.2f}')\n",
    "\n",
    "        \n",
    "def build_fall_chart(distance):\n",
    "    time_list = []\n",
    "    distance_list = []\n",
    "    \n",
    "    for time in range(1, 11):\n",
    "        distance_list.append(falling_distance(time))\n",
    "        time_list.append(time)\n",
    "    \n",
    "    return time_list, distance_list\n",
    "    \n",
    "    \n",
    "def falling_distance(time):\n",
    "    fallDistance = (9.8 * time * time) / 2\n",
    "    return fallDistance\n",
    "\n",
    "\n",
    "main()"
   ]
  },
  {
   "cell_type": "markdown",
   "id": "fe69f14d",
   "metadata": {},
   "source": [
    "### As the above code executes, think about the following questions:\n",
    "\n",
    "1. Trace the execution of the code by placing print statements throughout.\n",
    "2. Look at the first two programs and discuss how the same program is created but executed differently.\n",
    "3. Look at the thrid program and discuss how the return statement can be used to return multiple things at the same time."
   ]
  },
  {
   "cell_type": "markdown",
   "id": "bffcec5b",
   "metadata": {},
   "source": [
    "## 2.3 Functions that return nothing and functions that return something (Group): \n",
    "\n",
    "Write a program that will do the following:\n",
    "\n",
    "1. Compute the kinetic energy for five different individuals.\n",
    "2. You may input the values for the individuals or hard-code them.\n",
    "3. Store the results for the individuals in some fashion, think list or dictionary.\n",
    "4. Print the results that have been stored.\n",
    "5. Implement each of the above items in different functions, think modularly.\n",
    "\n",
    "KE = 1/2 m v^2  where: KE = kinetic energy(J), m = mass(Kg), v = velocity(m/s)"
   ]
  },
  {
   "cell_type": "code",
   "execution_count": null,
   "id": "2962e268",
   "metadata": {},
   "outputs": [],
   "source": [
    "# add code here\n",
    "\n"
   ]
  },
  {
   "cell_type": "markdown",
   "id": "98c90eb5",
   "metadata": {},
   "source": [
    "## 2.4  Local and Global variables (Follow):  \n",
    "\n",
    "**Learning Objectives:**\n",
    "\n",
    "    1. Understand variable scope.\n",
    "    2. Understand Gloabl variables and how to use them appropriately.\n",
    "    3. Understand local variables and their scope."
   ]
  },
  {
   "cell_type": "code",
   "execution_count": null,
   "id": "ba0d4df5",
   "metadata": {},
   "outputs": [],
   "source": [
    "# Add comments to the code\n",
    "\n",
    "def main():\n",
    "    mass = 0.0\n",
    "    velocity = 0.0\n",
    "    KE = 0.0\n",
    "\n",
    "    mass = float(input('Enter the mass of the object in kilograms: '))\n",
    "\n",
    "    velocity = float(input('Enter object velocity in meters per second: '))\n",
    "\n",
    "    KE = kinetic_energy(mass, velocity)\n",
    "\n",
    "    print (f'Kinetic Energy is: {KE:.2f} joules')\n",
    "\n",
    "\n",
    "def kinetic_energy(mass, velocity):\n",
    "    KE = 0.0\n",
    "    \n",
    "    KE = (mass * velocity * velocity) / 2\n",
    "    return KE\n",
    "\n",
    "\n",
    "main()\n"
   ]
  },
  {
   "cell_type": "code",
   "execution_count": null,
   "id": "7ec4de9e",
   "metadata": {},
   "outputs": [],
   "source": [
    "# add comments to the code\n",
    "\n",
    "import random\n",
    "\n",
    "HEADS = 1\n",
    "TAILS = 2\n",
    "TOSSES = 10\n",
    "\n",
    "def main():\n",
    "    for toss in range(TOSSES):\n",
    "        if random.randint(HEADS, TAILS) == HEADS:\n",
    "            print('Heads')\n",
    "        else:\n",
    "            print('Tails')\n",
    "            \n",
    "\n",
    "main()"
   ]
  },
  {
   "cell_type": "markdown",
   "id": "53d3bca3",
   "metadata": {},
   "source": [
    "### As the above code executes, think about the following questions:\n",
    "\n",
    "1. Look at the top program and label the local variables.\n",
    "2. Determine the scope of these local variables.\n",
    "3. Place a print statement for one of the local variables after the main() and explain the results.\n",
    "4. Look at the second program and determine the global variables.\n",
    "5. Place a print statement for one of the global variables after the main() and explain the results."
   ]
  },
  {
   "cell_type": "markdown",
   "id": "a029d75d",
   "metadata": {},
   "source": [
    "## 2.4  Local and Global variables (Group):  \n",
    "\n",
    "Write a program that will do the following:\n",
    "\n",
    "1. Generate a random number.\n",
    "2. The user will then input a number.\n",
    "3. The program will then tell the user if they are too high or too low.\n",
    "4. The user is prompted again, and the user enters a new number.\n",
    "5. This process repeats until the user guesses the correct number.\n",
    "6. The user can exit by guessing 0.\n",
    "7. Think modularly and use global and local variables.\n"
   ]
  },
  {
   "cell_type": "code",
   "execution_count": null,
   "id": "8c5ac6af",
   "metadata": {},
   "outputs": [],
   "source": [
    "# add code here\n",
    "\n",
    "\n"
   ]
  }
 ],
 "metadata": {
  "kernelspec": {
   "display_name": "Python 3",
   "language": "python",
   "name": "python3"
  },
  "language_info": {
   "codemirror_mode": {
    "name": "ipython",
    "version": 3
   },
   "file_extension": ".py",
   "mimetype": "text/x-python",
   "name": "python",
   "nbconvert_exporter": "python",
   "pygments_lexer": "ipython3",
   "version": "3.8.8"
  }
 },
 "nbformat": 4,
 "nbformat_minor": 5
}
