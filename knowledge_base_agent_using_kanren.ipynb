{
 "cells": [
  {
   "cell_type": "code",
   "execution_count": 2,
   "id": "e0928da5",
   "metadata": {},
   "outputs": [
    {
     "name": "stdout",
     "output_type": "stream",
     "text": [
      "Collecting kanren\n",
      "  Downloading kanren-0.2.3.tar.gz (23 kB)\n",
      "  Preparing metadata (setup.py): started\n",
      "  Preparing metadata (setup.py): finished with status 'done'\n",
      "Requirement already satisfied: toolz in c:\\users\\jacky\\anaconda3\\lib\\site-packages (from kanren) (0.11.1)\n",
      "Requirement already satisfied: multipledispatch in c:\\users\\jacky\\anaconda3\\lib\\site-packages (from kanren) (0.6.0)\n",
      "Collecting unification\n",
      "  Downloading unification-0.2.2-py2.py3-none-any.whl (10 kB)\n",
      "Requirement already satisfied: six in c:\\users\\jacky\\anaconda3\\lib\\site-packages (from multipledispatch->kanren) (1.15.0)\n",
      "Building wheels for collected packages: kanren\n",
      "  Building wheel for kanren (setup.py): started\n",
      "  Building wheel for kanren (setup.py): finished with status 'done'\n",
      "  Created wheel for kanren: filename=kanren-0.2.3-py3-none-any.whl size=15859 sha256=edc9fdf30b54d633907dde60faae724659fd8bee113ceaefc00ceccd73ebcdca\n",
      "  Stored in directory: c:\\users\\jacky\\appdata\\local\\pip\\cache\\wheels\\69\\e7\\58\\f138e1a8e1b6a717490d4c69ed313e46b459fb5bde2a100b9b\n",
      "Successfully built kanren\n",
      "Installing collected packages: unification, kanren\n",
      "Successfully installed kanren-0.2.3 unification-0.2.2\n",
      "\n",
      "[notice] A new release of pip available: 22.1.2 -> 22.2.2\n",
      "[notice] To update, run: python.exe -m pip install --upgrade pip\n"
     ]
    }
   ],
   "source": [
    "!pip install kanren"
   ]
  },
  {
   "cell_type": "code",
   "execution_count": 4,
   "id": "afbc677e",
   "metadata": {},
   "outputs": [
    {
     "name": "stdout",
     "output_type": "stream",
     "text": [
      "Requirement already satisfied: pip in c:\\users\\jacky\\anaconda3\\lib\\site-packages (22.1.2)\n",
      "Collecting pip\n",
      "  Using cached pip-22.2.2-py3-none-any.whl (2.0 MB)\n",
      "Installing collected packages: pip\n",
      "  Attempting uninstall: pip\n",
      "    Found existing installation: pip 22.1.2\n",
      "    Uninstalling pip-22.1.2:\n",
      "      Successfully uninstalled pip-22.1.2\n",
      "Successfully installed pip-22.2.2\n"
     ]
    }
   ],
   "source": [
    "!python.exe -m pip install --upgrade pip"
   ]
  },
  {
   "cell_type": "code",
   "execution_count": 1,
   "id": "707f10cb",
   "metadata": {},
   "outputs": [],
   "source": [
    "# from kanren import run, var, fact, Relation, lall\n",
    "\n",
    "# # define relations\n",
    "# f1_racer = Relation()\n",
    "# takes_pole = Relation()\n",
    "# win = Relation()\n",
    "# finish_first = Relation()\n",
    "# not_crash = Relation()\n",
    "# crash = Relation()\n",
    "\n",
    "# # bind facts\n",
    "# fact(f1_racer, \"Lewis Hamilton\")\n",
    "# fact(f1_racer, \"Max Verstappen\")\n",
    "# fact(f1_racer, \"Charles LecLerc\")\n",
    "# fact(crash, \"Max Verstappen\")\n",
    "# fact(not_crash, \"Charles LecLerc\")\n",
    "# fact(not_crash, \"Lewis Hamilton\")\n",
    "# fact(takes_pole, \"Charles LecLerc\")\n",
    "# fact(finish_first, \"Charles LecLerc\")\n",
    "\n",
    "# # rules\n",
    "# def fastest(x):\n",
    "#     return lall(f1_racer(x), takes_pole(x))\n",
    "\n",
    "# def lose_race(x):\n",
    "#     return crash(x)\n",
    "\n",
    "# def win_race(x):\n",
    "#     return lall(f1_racer(x), finish_first(x), not_crash(x))\n",
    "\n",
    "# x = var()\n",
    "# racers = run(0, x, f1_racer(x))\n",
    "# print(f'In the race: {racers}')\n",
    "\n",
    "# fast = run(0, x, fastest(x))\n",
    "# print(f'Fastest driver was {fast}')\n",
    "\n",
    "# winner = run(0, x, win_race(x))\n",
    "# print(f'The winner was {winner}')\n",
    "\n",
    "# loser = run(0, x, lose_race(x))\n",
    "# print(f'Lost: {loser}')"
   ]
  },
  {
   "cell_type": "code",
   "execution_count": 3,
   "id": "852d3c7a",
   "metadata": {},
   "outputs": [
    {
     "name": "stdout",
     "output_type": "stream",
     "text": [
      "In the company: ('Charles LecLerc', 'Lewis Hamilton', 'Max Verstappen')\n",
      "Fastest driver was ('Charles LecLerc',)\n",
      "Lost: ('Lewis Hamilton',)\n"
     ]
    }
   ],
   "source": [
    "from kanren import run, var, fact, Relation, lall\n",
    "\n",
    "# define relations\n",
    "employee = Relation()\n",
    "not_check = Relation()\n",
    "check = Relation()\n",
    "most_sale = Relation()\n",
    "\n",
    "# bind facts\n",
    "fact(employee, \"Lewis Hamilton\")\n",
    "fact(employee, \"Max Verstappen\")\n",
    "fact(employee, \"Charles LecLerc\")\n",
    "fact(not_check, \"Lewis Hamilton\")\n",
    "fact(check, \"Charles LecLerc\")\n",
    "fact(check, \"Max Verstappen\")\n",
    "fact(most_sale, \"Charles LecLerc\")\n",
    "\n",
    "# rules\n",
    "def employee_of_month(x):\n",
    "    return lall(employee(x), most_sale(x), check(x))\n",
    "\n",
    "def normal_employee(x):\n",
    "    return not_check(x)\n",
    "\n",
    "x = var()\n",
    "employees = run(0, x, employee(x))\n",
    "print(f'In the company: {employees}')\n",
    "\n",
    "fast = run(0, x, employee_of_month(x))\n",
    "print(f'Fastest driver was {fast}')\n",
    "\n",
    "loser = run(0, x, normal_employee(x))\n",
    "print(f'Lost: {loser}')"
   ]
  }
 ],
 "metadata": {
  "kernelspec": {
   "display_name": "Python 3",
   "language": "python",
   "name": "python3"
  },
  "language_info": {
   "codemirror_mode": {
    "name": "ipython",
    "version": 3
   },
   "file_extension": ".py",
   "mimetype": "text/x-python",
   "name": "python",
   "nbconvert_exporter": "python",
   "pygments_lexer": "ipython3",
   "version": "3.8.8"
  }
 },
 "nbformat": 4,
 "nbformat_minor": 5
}
