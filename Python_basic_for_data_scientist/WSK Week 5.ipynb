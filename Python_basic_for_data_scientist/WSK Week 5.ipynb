{
 "cells": [
  {
   "cell_type": "markdown",
   "id": "mdVuQT1mpQFy",
   "metadata": {
    "id": "mdVuQT1mpQFy"
   },
   "source": [
    "# Workshop 5 [Student]\n",
    "\n",
    "This notebook will cover the following topics:\n",
    "\n",
    "1. polymorphism\n",
    "2. Object composition\n",
    "3. list of objects\n",
    "4. stacks and queues"
   ]
  },
  {
   "cell_type": "markdown",
   "id": "njm6M9m0q_u7",
   "metadata": {
    "id": "njm6M9m0q_u7"
   },
   "source": [
    "## 5.1 Polymorphism (Follow):  \n",
    "\n",
    "**Learning Objectives:**\n",
    "\n",
    "    1. Understand how functions can have the same name but do different things\n",
    "    2. Understand how functions are called in inherited classes\n",
    "    3. Understand function overloading"
   ]
  },
  {
   "cell_type": "code",
   "execution_count": 1,
   "id": "376b166d",
   "metadata": {
    "id": "376b166d"
   },
   "outputs": [],
   "source": [
    "#add comments to code\n",
    "\n",
    "class Mammal:\n",
    "    def __init__(self, species):\n",
    "        self.__species = species\n",
    "    \n",
    "    def show_species(self):\n",
    "        print('I am a', self.__species)\n",
    "    \n",
    "    def make_sound(self):\n",
    "        print('Grrrrr')\n",
    "\n",
    "\n",
    "class Dog(Mammal):\n",
    "    def __init__(self):\n",
    "        Mammal.__init__(self, 'Dog')\n",
    "    \n",
    "    def make_sound(self):\n",
    "        print('Woof! Woof!')\n",
    "\n",
    "\n",
    "class Cat(Mammal):\n",
    "    def __init__(self):\n",
    "        Mammal.__init__(self, 'Cat')\n",
    "\n"
   ]
  },
  {
   "cell_type": "code",
   "execution_count": 2,
   "id": "bn-0BalZpowQ",
   "metadata": {
    "colab": {
     "base_uri": "https://localhost:8080/"
    },
    "id": "bn-0BalZpowQ",
    "outputId": "95a46b74-00cc-4dd8-82da-9c925f16d722"
   },
   "outputs": [
    {
     "name": "stdout",
     "output_type": "stream",
     "text": [
      "Here are some animals and\n",
      "the sounds they make.\n",
      "--------------------------\n",
      "I am a regular animal\n",
      "Grrrrr\n",
      "\n",
      "I am a Dog\n",
      "Woof! Woof!\n",
      "\n",
      "I am a Cat\n",
      "Grrrrr\n"
     ]
    }
   ],
   "source": [
    "def main():\n",
    "\n",
    "    mammal = Mammal('regular animal')\n",
    "    dog = Dog()\n",
    "    cat = Cat()\n",
    "\n",
    "    print('Here are some animals and')\n",
    "    print('the sounds they make.')\n",
    "    print('--------------------------')\n",
    "    show_mammal_info(mammal)\n",
    "    print()\n",
    "    show_mammal_info(dog)\n",
    "    print()\n",
    "    show_mammal_info(cat)\n",
    "\n",
    "\n",
    "def show_mammal_info(creature):\n",
    "    creature.show_species()\n",
    "    creature.make_sound()\n",
    "\n",
    "if __name__ == \"__main__\":\n",
    "     main()\n"
   ]
  },
  {
   "cell_type": "markdown",
   "id": "rjZZfD35sEuc",
   "metadata": {
    "id": "rjZZfD35sEuc"
   },
   "source": [
    "### While the above program executes, answer the following questions:\n",
    "\n",
    "1. Which make sound function gets executed when?\n",
    "2. What does the mammal.__init() function do in the dog and cat class?\n",
    "3. Write a function named show_species in the cat or dog class and have it do something different than the parent function.  \n",
    "\n"
   ]
  },
  {
   "cell_type": "markdown",
   "id": "Cl71XkItrBEj",
   "metadata": {
    "id": "Cl71XkItrBEj"
   },
   "source": [
    "## 5.1 Polymorphism (Group):  \n",
    "\n",
    "**Write a program that will do the following:**\n",
    "\n",
    "    1. Create a class person\n",
    "    2. Create a class customer\n",
    "    3. Person class has attributes name, address, and phone number\n",
    "    4. Customer class should have attributes customer number, purchase amount\n",
    "    5. All classes should have get and set methods for all attributes.\n",
    "    6. Use the super init method inside the customer class\n",
    "    7. Create a get info function for both classes that return everything in the object.\n",
    "    8. All attributes should be private."
   ]
  },
  {
   "cell_type": "code",
   "execution_count": null,
   "id": "3dec9c0e",
   "metadata": {
    "id": "3dec9c0e"
   },
   "outputs": [],
   "source": [
    "\n"
   ]
  },
  {
   "cell_type": "code",
   "execution_count": null,
   "id": "7gmulm3MprjY",
   "metadata": {
    "colab": {
     "base_uri": "https://localhost:8080/"
    },
    "id": "7gmulm3MprjY",
    "outputId": "33be9df5-176f-4f1e-86b2-5f302c97d7fa"
   },
   "outputs": [],
   "source": [
    "\n"
   ]
  },
  {
   "cell_type": "markdown",
   "id": "iLlWETsapgvY",
   "metadata": {
    "id": "iLlWETsapgvY"
   },
   "source": [
    "## 5.2 Object Composition (Follow):  \n",
    "\n",
    "**Learning Objectives:**\n",
    "\n",
    "    1. Understand how objects can reference other objects\n",
    "    2. Understand that objects can call functions inside other objects "
   ]
  },
  {
   "cell_type": "code",
   "execution_count": null,
   "id": "SjA7vcSRp1E5",
   "metadata": {
    "id": "SjA7vcSRp1E5"
   },
   "outputs": [],
   "source": [
    "#add comments to the code\n",
    "\n",
    "class Person:\n",
    "  def __init__(self, name, age, weight):\n",
    "    self.__name = name\n",
    "    self.__age = age\n",
    "    self.__weight = weight\n",
    "\n",
    "\n",
    "class F1_Driver:\n",
    "  def __init__(self, name, age, weight, team, wins):\n",
    "    self.__person = Person(name, age, weight)\n",
    "    self.__team = team\n",
    "    self.__wins = wins\n",
    "\n",
    "  def get_team(self):\n",
    "    return self.__team\n",
    "\n",
    "  def get_wins(self):\n",
    "    return self.__wins\n",
    "\n",
    "\n",
    "\n",
    "\n"
   ]
  },
  {
   "cell_type": "code",
   "execution_count": null,
   "id": "AwD-Hjs8p115",
   "metadata": {
    "colab": {
     "base_uri": "https://localhost:8080/"
    },
    "id": "AwD-Hjs8p115",
    "outputId": "1da44dca-2afe-4b9e-ad7f-58659b731390"
   },
   "outputs": [],
   "source": [
    "if __name__ == \"__main__\":\n",
    "\n",
    "\n",
    "  name1 = \"Lewis Hamilton\"\n",
    "  name2 = \"Max Verstappen\"\n",
    "\n",
    "  age1 = 37\n",
    "  age2 = 24\n",
    "\n",
    "  weight1 = 146\n",
    "  weight2 = 144\n",
    "\n",
    "  team1 = \"Mercedes\"\n",
    "  team2 = \"Red Bull\"\n",
    "  \n",
    "  wins1 = 103\n",
    "  wins2 = 20\n",
    "\n",
    "  GOAT = F1_Driver(name1, age1, weight1, team1, wins1)\n",
    "  Youngster = F1_Driver(name2, age2, weight2, team2, wins2)\n",
    "\n",
    "  print(GOAT.get_team())"
   ]
  },
  {
   "cell_type": "markdown",
   "id": "AMl2yXaksT_t",
   "metadata": {
    "id": "AMl2yXaksT_t"
   },
   "source": [
    "### While the above program executes, answer the following questions:\n",
    "\n",
    "1. write functions in the appropriate places to return name, age, and weight.  Why did you have to put them there?\n",
    "2. Write a function to increment the number of wins for the driver.\n",
    "3. Write another function to return all known values for one object.  How did you accomplish this?"
   ]
  },
  {
   "cell_type": "markdown",
   "id": "tWuOZ03Zp2Ls",
   "metadata": {
    "id": "tWuOZ03Zp2Ls"
   },
   "source": [
    "## 5.2 Object Composition (Group):  \n",
    "\n",
    "**Write a program that will do the following:**\n",
    "\n",
    "    1. Create a salary class.\n",
    "    2. The salary class should have attributes monthly income and bonus.\n",
    "    3. Create an employee class.\n",
    "    4. The salary class should have attributes employee ID, Object Salary, and job title\n",
    "    5. Create get and set methods for all variables.\n",
    "    6. Create a couple of objects and print the contents to the screen.\n",
    "    \n",
    "    "
   ]
  },
  {
   "cell_type": "code",
   "execution_count": null,
   "id": "QXqJ9WCyqBR1",
   "metadata": {
    "id": "QXqJ9WCyqBR1"
   },
   "outputs": [],
   "source": [
    "\n",
    "       "
   ]
  },
  {
   "cell_type": "code",
   "execution_count": null,
   "id": "UUfsmbTKqDLJ",
   "metadata": {
    "colab": {
     "base_uri": "https://localhost:8080/"
    },
    "id": "UUfsmbTKqDLJ",
    "outputId": "ec5973ed-74c2-47d0-d276-a011171fe77b"
   },
   "outputs": [],
   "source": [
    "\n"
   ]
  },
  {
   "cell_type": "markdown",
   "id": "6majl1Bbq30B",
   "metadata": {
    "id": "6majl1Bbq30B"
   },
   "source": [
    "## 5.3 Lists of Objects (Follow):  \n",
    "\n",
    "**Learning Objectives:**\n",
    "\n",
    "    1. Understand how objects can be placed in lists.\n",
    "    2. Understand the usefulness of lists of objects.\n",
    "    "
   ]
  },
  {
   "cell_type": "code",
   "execution_count": null,
   "id": "e3uvsrjVrA0U",
   "metadata": {
    "id": "e3uvsrjVrA0U"
   },
   "outputs": [],
   "source": [
    "# add comments to the code\n",
    "\n",
    "class Contact():\n",
    "    def __init__(self, name, age):\n",
    "        self.__name = name\n",
    "        self.__age = age\n",
    "        \n",
    "    def get_name(self):\n",
    "        return self.__name\n",
    "    \n",
    "    def get_age(self):\n",
    "        return self.__age\n",
    "\n",
    "    "
   ]
  },
  {
   "cell_type": "code",
   "execution_count": null,
   "id": "faSFA6tqrBlo",
   "metadata": {
    "colab": {
     "base_uri": "https://localhost:8080/"
    },
    "id": "faSFA6tqrBlo",
    "outputId": "204ac9c5-a7f4-4b86-99bf-5ad859740e68"
   },
   "outputs": [],
   "source": [
    "if __name__ == \"__main__\":\n",
    "  \n",
    "  contact_list = []\n",
    "\n",
    "  for i in range(9):\n",
    "    contact = Contact(\"I am contact \" + str(i) + \" of 9\", i)\n",
    "    contact_list.append(contact)\n",
    "    \n",
    "  for i in range(9):\n",
    "    print(contact_list[i].get_name())\n"
   ]
  },
  {
   "cell_type": "markdown",
   "id": "ZZSkEbxqsWXU",
   "metadata": {
    "id": "ZZSkEbxqsWXU"
   },
   "source": [
    "### While the above program executes, answer the following questions:\n",
    "\n",
    "1. What is actually in the list?\n",
    "2. What does the line: contact = Contact(\"I am contact \" + str(i) + \" of 9\", i) do?\n"
   ]
  },
  {
   "cell_type": "markdown",
   "id": "J9awaUcCrCYI",
   "metadata": {
    "id": "J9awaUcCrCYI"
   },
   "source": [
    "## 5.3 Lists of Objects (Group):  \n",
    "\n",
    "**Write a program that will do the following:**\n",
    "\n",
    "    1. Create class employee\n",
    "    2. Class employee should have attributes employee id, job title, monthly income, and name.\n",
    "    3. The employee class should have getter functions for all attributes.\n",
    "    4. Create a list with 10 employee objects.\n",
    "    5. Print the contents of list only printing the employee id.\n",
    "    6. For an added challenge, make employee ID random.  \n",
    "    7. You can also try printing the list of objects in different formats.\n"
   ]
  },
  {
   "cell_type": "code",
   "execution_count": null,
   "id": "BXGtdH4PrLcx",
   "metadata": {
    "id": "BXGtdH4PrLcx"
   },
   "outputs": [],
   "source": [
    "    \n"
   ]
  },
  {
   "cell_type": "code",
   "execution_count": null,
   "id": "5e2Wy-BLrMQC",
   "metadata": {
    "colab": {
     "base_uri": "https://localhost:8080/"
    },
    "id": "5e2Wy-BLrMQC",
    "outputId": "dba0f8d1-80d5-468a-a908-7ec483283001"
   },
   "outputs": [],
   "source": [
    "\n"
   ]
  },
  {
   "cell_type": "markdown",
   "id": "Z21hzYZNrMo3",
   "metadata": {
    "id": "Z21hzYZNrMo3"
   },
   "source": [
    "## 5.4 Stacks and Queues (Follow):  \n",
    "\n",
    "**Learning Objectives:**\n",
    "\n",
    "    1. Understand how stacks are implemented.\n",
    "    2. Understand how queques are implemented.\n",
    "    3. Understand the importance of stacks and queues in programming."
   ]
  },
  {
   "cell_type": "code",
   "execution_count": null,
   "id": "G5x9t35RrV-S",
   "metadata": {
    "colab": {
     "base_uri": "https://localhost:8080/"
    },
    "id": "G5x9t35RrV-S",
    "outputId": "3d706715-4d93-4f65-ee58-4b2a51da2b60"
   },
   "outputs": [],
   "source": [
    "#add comments to the code\n",
    " \n",
    "stack = []\n",
    " \n",
    "stack.append('a')\n",
    "stack.append('b')\n",
    "stack.append('c')\n",
    " \n",
    "print('Initial stack')\n",
    "print(stack)\n",
    " \n",
    "print('\\nElements popped from stack:')\n",
    "print(stack.pop())\n",
    "print(stack.pop())\n",
    "print(stack.pop())\n",
    " \n",
    "print('\\nStack after elements are popped:')\n",
    "print(stack)\n",
    " \n"
   ]
  },
  {
   "cell_type": "code",
   "execution_count": null,
   "id": "hN3blzfOra_J",
   "metadata": {
    "colab": {
     "base_uri": "https://localhost:8080/"
    },
    "id": "hN3blzfOra_J",
    "outputId": "fc41ac8b-a76c-415e-8591-e53eebe6c06c"
   },
   "outputs": [],
   "source": [
    "#add comments to the code\n",
    "\n",
    "queue = []\n",
    " \n",
    "queue.append('a')\n",
    "queue.append('b')\n",
    "queue.append('c')\n",
    " \n",
    "print(\"Initial queue\")\n",
    "print(queue)\n",
    " \n",
    "print(\"\\nElements dequeued from queue\")\n",
    "print(queue.pop(0))\n",
    "print(queue.pop(0))\n",
    "print(queue.pop(0))\n",
    " \n",
    "print(\"\\nQueue after removing elements\")\n",
    "print(queue)\n",
    " \n"
   ]
  },
  {
   "cell_type": "markdown",
   "id": "tmprS5USsZB_",
   "metadata": {
    "id": "tmprS5USsZB_"
   },
   "source": [
    "### While the above program executes, answer the following questions:\n",
    "\n",
    "1. Put print statements between each pop and explain the results.\n",
    "2. Where is an example you have seen a stack or queue used in real-life?\n",
    "3. What is the order that the items are put into the queue/stack and taken out?\n"
   ]
  },
  {
   "cell_type": "markdown",
   "id": "WoDukkV3rbRw",
   "metadata": {
    "id": "WoDukkV3rbRw"
   },
   "source": [
    "## 5.4 Stacks and Queues (Group):  \n",
    "\n",
    "**Write a program that will do the following:**\n",
    "\n",
    "    1. Create an employee class.\n",
    "    2. The employee class should have attributes name and employee ID\n",
    "    3. Create at least three employee objects.\n",
    "    4. Push the objects into a queue and stack.\n",
    "    5. Remove the employees from the stack and queue until both are empty.\n",
    "    6. Print the orders of both employee objects. "
   ]
  },
  {
   "cell_type": "code",
   "execution_count": null,
   "id": "utKkoMXkreOu",
   "metadata": {
    "id": "utKkoMXkreOu"
   },
   "outputs": [],
   "source": [
    "\n"
   ]
  },
  {
   "cell_type": "code",
   "execution_count": null,
   "id": "sD5qnkuYrfRP",
   "metadata": {
    "colab": {
     "base_uri": "https://localhost:8080/"
    },
    "id": "sD5qnkuYrfRP",
    "outputId": "219ed508-a740-4177-bf97-40a13b04c578"
   },
   "outputs": [],
   "source": [
    "\n"
   ]
  },
  {
   "cell_type": "markdown",
   "id": "bti2P433Fib2",
   "metadata": {
    "id": "bti2P433Fib2"
   },
   "source": [
    "## 5.5 Mini Project (Group):  \n",
    "\n",
    "**Write a program that will do the following:**\n",
    "\n",
    "    1. Try to use the material you have been learning to create a program that will be usefule to your life/work.\n",
    "    2. Try to use classes and objects.\n",
    "    3. Try to use these objects to store and process information."
   ]
  },
  {
   "cell_type": "code",
   "execution_count": null,
   "id": "kGIk56AbDovt",
   "metadata": {
    "id": "kGIk56AbDovt"
   },
   "outputs": [],
   "source": []
  },
  {
   "cell_type": "code",
   "execution_count": null,
   "id": "YBtnPlb6Fst3",
   "metadata": {
    "id": "YBtnPlb6Fst3"
   },
   "outputs": [],
   "source": []
  }
 ],
 "metadata": {
  "colab": {
   "collapsed_sections": [],
   "name": "WSK Week 5 Solutions.ipynb",
   "provenance": []
  },
  "kernelspec": {
   "display_name": "Python 3",
   "language": "python",
   "name": "python3"
  },
  "language_info": {
   "codemirror_mode": {
    "name": "ipython",
    "version": 3
   },
   "file_extension": ".py",
   "mimetype": "text/x-python",
   "name": "python",
   "nbconvert_exporter": "python",
   "pygments_lexer": "ipython3",
   "version": "3.8.8"
  }
 },
 "nbformat": 4,
 "nbformat_minor": 5
}
