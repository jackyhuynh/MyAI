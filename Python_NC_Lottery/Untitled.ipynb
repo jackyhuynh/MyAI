{
 "cells": [
  {
   "cell_type": "markdown",
   "id": "d4ed67e2",
   "metadata": {},
   "source": [
    "# NC Lottery\n",
    "\n",
    "nclottery.com/Cash5Past"
   ]
  },
  {
   "cell_type": "code",
   "execution_count": null,
   "id": "33dfe080",
   "metadata": {},
   "outputs": [],
   "source": [
    "import pandas as pd\n",
    "\n",
    "df = pd.read_csv('NCEL-Cash5')"
   ]
  }
 ],
 "metadata": {
  "kernelspec": {
   "display_name": "Python 3",
   "language": "python",
   "name": "python3"
  },
  "language_info": {
   "codemirror_mode": {
    "name": "ipython",
    "version": 3
   },
   "file_extension": ".py",
   "mimetype": "text/x-python",
   "name": "python",
   "nbconvert_exporter": "python",
   "pygments_lexer": "ipython3",
   "version": "3.8.8"
  }
 },
 "nbformat": 4,
 "nbformat_minor": 5
}
